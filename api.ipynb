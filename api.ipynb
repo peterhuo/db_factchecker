{
 "cells": [
  {
   "cell_type": "code",
   "execution_count": 4,
   "metadata": {},
   "outputs": [],
   "source": [
    "from langchain.llms import OpenAI\n",
    "import os\n",
    "from langchain_community.document_loaders import WikipediaLoader\n",
    "from langchain_openai import ChatOpenAI\n",
    "from langchain.prompts import (\n",
    "                                PromptTemplate,\n",
    "                                ChatPromptTemplate, \n",
    "                                SystemMessagePromptTemplate, \n",
    "                                HumanMessagePromptTemplate, \n",
    "                                AIMessagePromptTemplate )\n",
    "import requests\n",
    "\n",
    "# llm = ChatOpenAI(model=\"gpt-3.5-turbo\", temperature=0)\n",
    "\n",
    "\n",
    "def extract_keywords(text, n = 2):\n",
    "    response = llm.invoke(\"What are the top {n} most important keywords to search for on Wikipedia to verify claim\" + text + \" Please give the answer in a common delimited sentence with no space from the most important to the least important.\")\n",
    "    print(response)\n",
    "    response = dict(response)['content'].split(',')\n",
    "    return response\n",
    "\n",
    "def get_wikipedia_info(keywords, max_chars = 4000):\n",
    "    result = {}\n",
    "    for keyword in keywords:\n",
    "          docs = WikipediaLoader(query=keyword, load_max_docs=1, doc_content_chars_max=max_chars).load()\n",
    "          if docs:\n",
    "            wiki_key = docs[0].metadata['title']\n",
    "            result[wiki_key] = docs[0]\n",
    "    return result\n",
    "\n",
    "def get_wikipedia_info_from_text(text, n_keywords =2, max_chars = 4000):\n",
    "     keywords = extract_keywords(text)\n",
    "     wiki_info = get_wikipedia_info(keywords)\n",
    "     return wiki_info\n"
   ]
  },
  {
   "cell_type": "code",
   "execution_count": 6,
   "metadata": {},
   "outputs": [
    {
     "name": "stdout",
     "output_type": "stream",
     "text": [
      "{'Paris': Document(page_content=\"Paris is the capital and most populous city of France. With an official estimated population of 2,102,650 residents as of 1 January 2023 in an area of more than 105 km2 (41 sq mi), Paris is the fourth-most populated city in the European Union and the 30th most densely populated city in the world in 2022. Since the 17th century, Paris has been one of the world's major centres of finance, diplomacy, commerce, culture, fashion, and gastronomy. For its leading role in the arts and sciences, as well as its early and extensive system of street lighting, in the 19th century, it became known as the City of Light. \\nThe City of Paris is the centre of the Île-de-France region, or Paris Region, with an official estimated population of 12,271,794 inhabitants on 1 January 2023, or about 19% of the population of France. The Paris Region had a GDP of €765 billion (US$1.064 trillion, PPP) in 2021, the highest in the European Union. According to the Economist Intelligence Unit Worldwide Cost of Living Survey, in 2022, Paris was the city with the ninth-highest cost of living in the world.\\nParis is a major railway, highway, and air-transport hub served by two international airports: Charles de Gaulle Airport (the third-busiest airport in Europe) and Orly Airport. Opened in 1900, the city's subway system, the Paris Métro, serves 5.23 million passengers daily; it is the second-busiest metro system in Europe after the Moscow Metro. Gare du Nord is the 24th-busiest railway station in the world and the busiest outside Japan, with 262 million passengers in 2015. Paris has one of the most sustainable transportation systems and is one of the only two cities in the world that received the Sustainable Transport Award twice.\\nParis is especially known for its museums and architectural landmarks: the Louvre received 8.9 million visitors in 2023, on track for keeping its position as the most-visited art museum in the world. The Musée d'Orsay, Musée Marmottan Monet and Musée de l'Orangerie are noted for their collections of French Impressionist art. The Pompidou Centre Musée National d'Art Moderne, Musée Rodin and Musée Picasso are noted for their collections of modern and contemporary art. The historical district along the Seine in the city centre has been classified as a UNESCO World Heritage Site since 1991.\\nParis hosts several United Nations organizations including UNESCO, and other international organizations such as the OECD, the OECD Development Centre, the International Bureau of Weights and Measures, the International Energy Agency, the International Federation for Human Rights, along with European bodies such as the European Space Agency, the European Banking Authority and the European Securities and Markets Authority. The football club Paris Saint-Germain and the rugby union club Stade Français are based in Paris. The 81,000-seat Stade de France, built for the 1998 FIFA World Cup, is located just north of Paris in the neighbouring commune of Saint-Denis. Paris hosts the annual French Open Grand Slam tennis tournament on the red clay of Roland Garros. The city hosted the Olympic Games in 1900 and 1924, and will host the 2024 Summer Olympics. The 1938 and 1998 FIFA World Cups, the 2019 FIFA Women's World Cup, the 2007 Rugby World Cup, as well as the 1960, 1984 and 2016 UEFA European Championships were also held in the city. Every July, the Tour de France bicycle race finishes on the Avenue des Champs-Élysées in Paris.\\n\\n\\n== Etymology ==\\n\\nThe ancient oppidum that corresponds to the modern city of Paris was first mentioned in the mid-1st century BC by Julius Caesar as Luteciam Parisiorum ('Lutetia of the Parisii'), and is later attested as Parision in the 5th century AD, then as Paris in 1265. During the Roman period, it was commonly known as Lutetia or Lutecia in Latin, and as Leukotekía in Greek, which is interpreted as either stemming from the Celtic root *lukot- ('mouse'), or from *luto- ('marsh, swamp').\\nThe name Paris is derived from its early inhab\", metadata={'title': 'Paris', 'summary': \"Paris is the capital and most populous city of France. With an official estimated population of 2,102,650 residents as of 1 January 2023 in an area of more than 105 km2 (41 sq mi), Paris is the fourth-most populated city in the European Union and the 30th most densely populated city in the world in 2022. Since the 17th century, Paris has been one of the world's major centres of finance, diplomacy, commerce, culture, fashion, and gastronomy. For its leading role in the arts and sciences, as well as its early and extensive system of street lighting, in the 19th century, it became known as the City of Light. \\nThe City of Paris is the centre of the Île-de-France region, or Paris Region, with an official estimated population of 12,271,794 inhabitants on 1 January 2023, or about 19% of the population of France. The Paris Region had a GDP of €765 billion (US$1.064 trillion, PPP) in 2021, the highest in the European Union. According to the Economist Intelligence Unit Worldwide Cost of Living Survey, in 2022, Paris was the city with the ninth-highest cost of living in the world.\\nParis is a major railway, highway, and air-transport hub served by two international airports: Charles de Gaulle Airport (the third-busiest airport in Europe) and Orly Airport. Opened in 1900, the city's subway system, the Paris Métro, serves 5.23 million passengers daily; it is the second-busiest metro system in Europe after the Moscow Metro. Gare du Nord is the 24th-busiest railway station in the world and the busiest outside Japan, with 262 million passengers in 2015. Paris has one of the most sustainable transportation systems and is one of the only two cities in the world that received the Sustainable Transport Award twice.\\nParis is especially known for its museums and architectural landmarks: the Louvre received 8.9 million visitors in 2023, on track for keeping its position as the most-visited art museum in the world. The Musée d'Orsay, Musée Marmottan Monet and Musée de l'Orangerie are noted for their collections of French Impressionist art. The Pompidou Centre Musée National d'Art Moderne, Musée Rodin and Musée Picasso are noted for their collections of modern and contemporary art. The historical district along the Seine in the city centre has been classified as a UNESCO World Heritage Site since 1991.\\nParis hosts several United Nations organizations including UNESCO, and other international organizations such as the OECD, the OECD Development Centre, the International Bureau of Weights and Measures, the International Energy Agency, the International Federation for Human Rights, along with European bodies such as the European Space Agency, the European Banking Authority and the European Securities and Markets Authority. The football club Paris Saint-Germain and the rugby union club Stade Français are based in Paris. The 81,000-seat Stade de France, built for the 1998 FIFA World Cup, is located just north of Paris in the neighbouring commune of Saint-Denis. Paris hosts the annual French Open Grand Slam tennis tournament on the red clay of Roland Garros. The city hosted the Olympic Games in 1900 and 1924, and will host the 2024 Summer Olympics. The 1938 and 1998 FIFA World Cups, the 2019 FIFA Women's World Cup, the 2007 Rugby World Cup, as well as the 1960, 1984 and 2016 UEFA European Championships were also held in the city. Every July, the Tour de France bicycle race finishes on the Avenue des Champs-Élysées in Paris.\\n\\n\", 'source': 'https://en.wikipedia.org/wiki/Paris'})}\n"
     ]
    }
   ],
   "source": [
    "print(get_wikipedia_info(['Paris']))"
   ]
  },
  {
   "cell_type": "code",
   "execution_count": 108,
   "metadata": {},
   "outputs": [
    {
     "data": {
      "text/plain": [
       "\"System: You are a fact checker. Given input claim and relevant informaiton, you will respond Yes or No with a short justification citing from the wiki information. You return a json response with the keys 'response' and 'justification'\\nHuman: claim: Beijing is the capital of China, info: \""
      ]
     },
     "execution_count": 108,
     "metadata": {},
     "output_type": "execute_result"
    }
   ],
   "source": [
    "# from langchain_core.messages import AIMessage, HumanMessage, SystemMessage\n",
    "\n",
    "# system_prompt = SystemMessage(content=\"You are a fact checker. Given input claim and relevant informaiton, you will respond Yes or No with a short justification citing from the wiki information. You return a json response with the keys 'response' and 'justification': {'response': '<yes_or_no>', 'justification': '<justification>'}\")\n",
    "# human_prompt = PromptTemplate.from_template(\"claim: {claim}, info: {info}\")\n",
    "from langchain_core.prompts import ChatPromptTemplate\n",
    "\n",
    "\n",
    "\n",
    "chat_template = ChatPromptTemplate.from_messages(\n",
    "    [\n",
    "        (\"system\", \"You are a fact checker. Given input claim and relevant informaiton, you will respond Yes or No with a short justification citing from the wiki information. You return a json response with the keys 'response' and 'justification'\"),\n",
    "        (\"human\", \"claim: {claim}, info: {info}\"),\n",
    "    ]\n",
    ")\n",
    "\n",
    "def compose_query(claim, wiki_info):\n",
    "    def concat_wiki_info(wiki_info):\n",
    "        result = \"\"\n",
    "        for key, doc in wiki_info.items():\n",
    "            result += key + \": \" + doc.page_content + \"\\n\"\n",
    "        return result\n",
    "    wiki_info = concat_wiki_info(wiki_info)\n",
    "    return \"claim: \" + claim + \"\\n info: \" + wiki_info\n",
    "\n",
    "\n",
    "\n",
    "c = chat_template.format(claim=\"Beijing is the capital of China\", info=\"\")\n",
    "c"
   ]
  },
  {
   "cell_type": "code",
   "execution_count": null,
   "metadata": {},
   "outputs": [],
   "source": [
    "from langchain.prompts import ChatPromptTemplate, MessagesPlaceholder\n",
    "\n",
    "prompt = ChatPromptTemplate.from_messages(\n",
    "    [\n",
    "        (\n",
    "            \"system\",\n",
    "            \"\"\"You are a powerful fact checker that checks if the input claim is true or false given relevant information extracted from wikipeida. You should always answer 'Yes.' or 'No.', then follow by a short justification by citing from the wiki information. \"\"\"       ),\n",
    "        (\"user\", \"{input}\"),\n",
    "        MessagesPlaceholder(variable_name=\"agent_scratchpad\"),\n",
    "    ]\n",
    ")\n",
    "from langchain.tools.render import format_tool_to_openai_function\n",
    "\n",
    "tools = [verify_claim]\n",
    "llm_with_tools = llm.bind(functions=[format_tool_to_openai_function(t) for t in tools])"
   ]
  },
  {
   "cell_type": "code",
   "execution_count": 102,
   "metadata": {},
   "outputs": [
    {
     "name": "stdout",
     "output_type": "stream",
     "text": [
      "content='Beijing,Capital,China' response_metadata={'token_usage': {'completion_tokens': 7, 'prompt_tokens': 53, 'total_tokens': 60}, 'model_name': 'gpt-3.5-turbo', 'system_fingerprint': 'fp_c2295e73ad', 'finish_reason': 'stop', 'logprobs': None} id='run-d497fc69-6096-4a39-b9b4-54dab284a435-0'\n"
     ]
    },
    {
     "name": "stderr",
     "output_type": "stream",
     "text": [
      "/Users/kellychen/opt/anaconda3/envs/cs6682/lib/python3.11/site-packages/wikipedia/wikipedia.py:389: GuessedAtParserWarning: No parser was explicitly specified, so I'm using the best available HTML parser for this system (\"lxml\"). This usually isn't a problem, but if you run this code on another system, or in a different virtual environment, it may use a different parser and behave differently.\n",
      "\n",
      "The code that caused this warning is on line 389 of the file /Users/kellychen/opt/anaconda3/envs/cs6682/lib/python3.11/site-packages/wikipedia/wikipedia.py. To get rid of this warning, pass the additional argument 'features=\"lxml\"' to the BeautifulSoup constructor.\n",
      "\n",
      "  lis = BeautifulSoup(html).find_all('li')\n"
     ]
    },
    {
     "data": {
      "text/plain": [
       "{'Beijing': Document(page_content=\"Beijing, alternatively romanized as Peking, is the capital of China. With about 22 million residents, Beijing is the world's most populous national capital city as well as China's second largest city after Shanghai. It is located in Northern China, and is governed as a municipality under the direct administration of the State Council with 16 urban, suburban, and rural districts. Beijing is mostly surrounded by Hebei Province with the exception of neighboring Tianjin to the southeast; together, the three divisions form the Jingjinji megalopolis and the national capital region of China.\\nBeijing is a global city and one of the world's leading centres for culture, diplomacy, politics, finance, business and economics, education, research, language, tourism, media, sport, science and technology and transportation. It is home to the headquarters of most of China's largest state-owned companies and houses the largest number of Fortune Global 500 companies in the world, as well as the world's four biggest financial institutions by total assets. It is also a major hub for the national highway, expressway, railway, and high-speed rail networks. For a decade before the COVID-19 pandemic, the Beijing Capital International Airport was Asia's busiest airport (2009–2019) and the second busiest airport in the world (2010–2019). In 2020, the Beijing subway was the fourth busiest and second longest in the world. The Beijing Daxing International Airport, Beijing's second international airport, is the largest single-structure airport terminal in the world.\\nCombining both modern and traditional style architectures, Beijing is one of the oldest cities in the world, with a rich history dating back over three millennia. As the last of the Four Great Ancient Capitals of China, Beijing has been the political center of the country for most of the past eight centuries, and was the largest city in the world by population for much of the second millennium CE. With mountains surrounding the inland city on three sides, in addition to the old inner and outer city walls, Beijing was strategically poised and developed to be the residence of the emperor and thus was the perfect location for the imperial capital. The city is renowned for its opulent palaces, temples, parks, gardens, tombs, walls and gates. Beijing is one of the most important tourist destinations of the world. In 2018, Beijing was the second highest earning tourist city in the world after Shanghai. Beijing is home to many national monuments and museums and has seven UNESCO World Heritage Sites—the Forbidden City, Temple of Heaven, Summer Palace, Ming Tombs, Zhoukoudian Peking Man Site, and parts of the Great Wall and the Grand Canal—all of which are popular tourist locations. Siheyuans, the city's traditional housing style, and hutongs, the narrow alleys between siheyuans, are major tourist attractions and are common in urban Beijing.\\nBeijing's public universities make up more than one-fifth of Double First-Class Construction universities, and many of them consistently rank among the best in the Asia-Pacific and the world. Beijing is home to the two best C9 League universities (Tsinghua and Peking) in Asia & Oceania region and emerging countries. Beijing CBD is a center for Beijing's economic expansion, with the ongoing or recently completed construction of multiple skyscrapers. Beijing's Zhongguancun area is a world leading center of scientific and technological innovation as well as entrepreneurship. Beijing has been ranked the city with the largest scientific research output by the Nature Index since the list's inception in 2016. The city has hosted numerous international and national sporting events, the most notable being the 2008 Summer Olympics and 2008 Summer Paralympics Games. In 2022, Beijing became the first city ever to host both the Summer and Winter Olympics, and also the Summer and Winter Paralympics. Beijing hosts 175 foreign embassies as well as the headquarters of many organizati\", metadata={'title': 'Beijing', 'summary': \"Beijing, alternatively romanized as Peking, is the capital of China. With about 22 million residents, Beijing is the world's most populous national capital city as well as China's second largest city after Shanghai. It is located in Northern China, and is governed as a municipality under the direct administration of the State Council with 16 urban, suburban, and rural districts. Beijing is mostly surrounded by Hebei Province with the exception of neighboring Tianjin to the southeast; together, the three divisions form the Jingjinji megalopolis and the national capital region of China.\\nBeijing is a global city and one of the world's leading centres for culture, diplomacy, politics, finance, business and economics, education, research, language, tourism, media, sport, science and technology and transportation. It is home to the headquarters of most of China's largest state-owned companies and houses the largest number of Fortune Global 500 companies in the world, as well as the world's four biggest financial institutions by total assets. It is also a major hub for the national highway, expressway, railway, and high-speed rail networks. For a decade before the COVID-19 pandemic, the Beijing Capital International Airport was Asia's busiest airport (2009–2019) and the second busiest airport in the world (2010–2019). In 2020, the Beijing subway was the fourth busiest and second longest in the world. The Beijing Daxing International Airport, Beijing's second international airport, is the largest single-structure airport terminal in the world.\\nCombining both modern and traditional style architectures, Beijing is one of the oldest cities in the world, with a rich history dating back over three millennia. As the last of the Four Great Ancient Capitals of China, Beijing has been the political center of the country for most of the past eight centuries, and was the largest city in the world by population for much of the second millennium CE. With mountains surrounding the inland city on three sides, in addition to the old inner and outer city walls, Beijing was strategically poised and developed to be the residence of the emperor and thus was the perfect location for the imperial capital. The city is renowned for its opulent palaces, temples, parks, gardens, tombs, walls and gates. Beijing is one of the most important tourist destinations of the world. In 2018, Beijing was the second highest earning tourist city in the world after Shanghai. Beijing is home to many national monuments and museums and has seven UNESCO World Heritage Sites—the Forbidden City, Temple of Heaven, Summer Palace, Ming Tombs, Zhoukoudian Peking Man Site, and parts of the Great Wall and the Grand Canal—all of which are popular tourist locations. Siheyuans, the city's traditional housing style, and hutongs, the narrow alleys between siheyuans, are major tourist attractions and are common in urban Beijing.\\nBeijing's public universities make up more than one-fifth of Double First-Class Construction universities, and many of them consistently rank among the best in the Asia-Pacific and the world. Beijing is home to the two best C9 League universities (Tsinghua and Peking) in Asia & Oceania region and emerging countries. Beijing CBD is a center for Beijing's economic expansion, with the ongoing or recently completed construction of multiple skyscrapers. Beijing's Zhongguancun area is a world leading center of scientific and technological innovation as well as entrepreneurship. Beijing has been ranked the city with the largest scientific research output by the Nature Index since the list's inception in 2016. The city has hosted numerous international and national sporting events, the most notable being the 2008 Summer Olympics and 2008 Summer Paralympics Games. In 2022, Beijing became the first city ever to host both the Summer and Winter Olympics, and also the Summer and Winter Paralympics. Beijing hosts 175 foreign embassies as well as the headquarters of many organizations, including the Asian Infrastructure Investment Bank (AIIB), the Shanghai Cooperation Organisation (SCO), the Silk Road Fund, the Chinese Academy of Sciences, the Chinese Academy of Engineering, the Chinese Academy of Social Sciences, the Central Academy of Fine Arts, the Central Academy of Drama, the Central Conservatory of Music, and the Red Cross Society of China.\", 'source': 'https://en.wikipedia.org/wiki/Beijing'}),\n",
       " 'China': Document(page_content=\"China, officially the People's Republic of China (PRC), is a country in East Asia. With a population exceeding 1.4 billion, it is the world's second-most populous country. China spans the equivalent of five time zones and borders fourteen countries by land. With an area of nearly 9.6 million square kilometers (3,700,000 sq mi), it is the third-largest country by total land area. The country is divided into 33 province-level divisions, inclusive of 22 provinces, five autonomous regions, four municipalities, and two semi-autonomous special administrative regions. Beijing is the national capital, while Shanghai is its most populous city and largest financial center.\\nOne of the cradles of civilization, China has been inhabited since the Paleolithic era, with the earliest dynasties emerging in the Yellow River basin before the late second millennium BCE. The eighth to third centuries BCE saw a breakdown in the authority of the Zhou dynasty, accompanied by the emergence of administrative and military techniques, literature, philosophy, and historiography. In 221 BCE, China was unified under an emperor for the first time. Appointed non-hereditary officials began ruling counties instead of the aristocracy, ushering in more than two millennia of imperial dynasties including the Qin, Han, Tang, Yuan, Ming, and Qing. With the invention of gunpowder and paper, the establishment of the Silk Road, and the building of the Great Wall, Chinese culture—including languages, traditions, architecture, philosophy and technology—flourished and has heavily influenced East Asia and beyond.\\nAfter decades of struggle, the monarchy was overthrown in 1912 and the Republic of China (ROC) was established. Despite China's eventual victory in the Second Sino-Japanese War and the Pacific War in general, numerous atrocities such as the Nanjing Massacre left lasting effects on the country. Concurrently during this period, the Chinese Communist Party (CCP) and the Kuomintang (KMT) government were fighting sporadically since 1927, with a brief truce as a united front when Japan began invading the country. The second phase of the civil war resumed not long after Japan was defeated, and by 1949, the CCP had established control on most of the territories of the country. As the KMT retreated to Taiwan, the country was split with both sides claiming to be the sole legitimate government of China. After the land reforms, later attempts to realize communism failed—the Great Leap Forward led to a massive famine of millions of citizens, while the Cultural Revolution caused a chaotic period of persecution and zealous Maoist populism. In 1971, the PRC replaced the ROC as China's representation in the United Nations (UN). Following the Sino-Soviet split, the Shanghai Communiqué in 1972 marked the beginning of normalized relations with the United States. Economic reforms that began in 1978 led by reformists within the CCP moved the country away from a socialist planned economy toward an increasingly capitalist market economy, spurring significant economic growth, although liberal and democratic political reforms stalled after the June Fourth Incident in 1989.\\nChina is a unitary one-party socialist republic led by the CCP. It is a founding member of the UN and one of the five permanent members of the UN Security Council. It is a founding member of several multilateral and regional organizations such as the AIIB, the Silk Road Fund, the New Development Bank, and the RCEP. It is a member of the BRICS, the G20, APEC, the SCO, and the East Asia Summit. Making up around one-fifth of the world economy, the Chinese economy is the world's largest economy by GDP at purchasing power parity, the second-largest economy by nominal GDP, and the second-wealthiest country, albeit ranking poorly in measures of democracy, human rights and religious freedoms. The country has been one of the fastest-growing major economies and is the world's largest manufacturer and exporter, as well as the second-\", metadata={'title': 'China', 'summary': \"China, officially the People's Republic of China (PRC), is a country in East Asia. With a population exceeding 1.4 billion, it is the world's second-most populous country. China spans the equivalent of five time zones and borders fourteen countries by land. With an area of nearly 9.6 million square kilometers (3,700,000 sq mi), it is the third-largest country by total land area. The country is divided into 33 province-level divisions, inclusive of 22 provinces, five autonomous regions, four municipalities, and two semi-autonomous special administrative regions. Beijing is the national capital, while Shanghai is its most populous city and largest financial center.\\nOne of the cradles of civilization, China has been inhabited since the Paleolithic era, with the earliest dynasties emerging in the Yellow River basin before the late second millennium BCE. The eighth to third centuries BCE saw a breakdown in the authority of the Zhou dynasty, accompanied by the emergence of administrative and military techniques, literature, philosophy, and historiography. In 221 BCE, China was unified under an emperor for the first time. Appointed non-hereditary officials began ruling counties instead of the aristocracy, ushering in more than two millennia of imperial dynasties including the Qin, Han, Tang, Yuan, Ming, and Qing. With the invention of gunpowder and paper, the establishment of the Silk Road, and the building of the Great Wall, Chinese culture—including languages, traditions, architecture, philosophy and technology—flourished and has heavily influenced East Asia and beyond.\\nAfter decades of struggle, the monarchy was overthrown in 1912 and the Republic of China (ROC) was established. Despite China's eventual victory in the Second Sino-Japanese War and the Pacific War in general, numerous atrocities such as the Nanjing Massacre left lasting effects on the country. Concurrently during this period, the Chinese Communist Party (CCP) and the Kuomintang (KMT) government were fighting sporadically since 1927, with a brief truce as a united front when Japan began invading the country. The second phase of the civil war resumed not long after Japan was defeated, and by 1949, the CCP had established control on most of the territories of the country. As the KMT retreated to Taiwan, the country was split with both sides claiming to be the sole legitimate government of China. After the land reforms, later attempts to realize communism failed—the Great Leap Forward led to a massive famine of millions of citizens, while the Cultural Revolution caused a chaotic period of persecution and zealous Maoist populism. In 1971, the PRC replaced the ROC as China's representation in the United Nations (UN). Following the Sino-Soviet split, the Shanghai Communiqué in 1972 marked the beginning of normalized relations with the United States. Economic reforms that began in 1978 led by reformists within the CCP moved the country away from a socialist planned economy toward an increasingly capitalist market economy, spurring significant economic growth, although liberal and democratic political reforms stalled after the June Fourth Incident in 1989.\\nChina is a unitary one-party socialist republic led by the CCP. It is a founding member of the UN and one of the five permanent members of the UN Security Council. It is a founding member of several multilateral and regional organizations such as the AIIB, the Silk Road Fund, the New Development Bank, and the RCEP. It is a member of the BRICS, the G20, APEC, the SCO, and the East Asia Summit. Making up around one-fifth of the world economy, the Chinese economy is the world's largest economy by GDP at purchasing power parity, the second-largest economy by nominal GDP, and the second-wealthiest country, albeit ranking poorly in measures of democracy, human rights and religious freedoms. The country has been one of the fastest-growing major economies and is the world's largest manufacturer and exporter, as well as the second-largest importer. China is a nuclear-weapon state with the world's largest standing army by military personnel and the second-largest defense budget. It is a great power and a regional power.\\n\\n\", 'source': 'https://en.wikipedia.org/wiki/China'})}"
      ]
     },
     "execution_count": 102,
     "metadata": {},
     "output_type": "execute_result"
    }
   ],
   "source": [
    "wiki_info = get_wikipedia_info_from_text(\"Beijing is the capital of china\")\n",
    "wiki_info"
   ]
  },
  {
   "cell_type": "code",
   "execution_count": 66,
   "metadata": {},
   "outputs": [
    {
     "data": {
      "text/plain": [
       "'Dune: Part Two'"
      ]
     },
     "execution_count": 66,
     "metadata": {},
     "output_type": "execute_result"
    }
   ],
   "source": []
  }
 ],
 "metadata": {
  "kernelspec": {
   "display_name": "cs6682",
   "language": "python",
   "name": "python3"
  },
  "language_info": {
   "codemirror_mode": {
    "name": "ipython",
    "version": 3
   },
   "file_extension": ".py",
   "mimetype": "text/x-python",
   "name": "python",
   "nbconvert_exporter": "python",
   "pygments_lexer": "ipython3",
   "version": "3.11.8"
  }
 },
 "nbformat": 4,
 "nbformat_minor": 2
}
